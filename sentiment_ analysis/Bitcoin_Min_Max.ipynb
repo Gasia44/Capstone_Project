{
 "cells": [
  {
   "cell_type": "markdown",
   "metadata": {},
   "source": [
    "# Setup"
   ]
  },
  {
   "cell_type": "code",
   "execution_count": 1,
   "metadata": {},
   "outputs": [],
   "source": [
    "import numpy as np\n",
    "import pandas as pd\n",
    "import matplotlib.pyplot as plt\n",
    "from tqdm import tqdm, tqdm_notebook\n",
    "import gdax\n",
    "%matplotlib inline  "
   ]
  },
  {
   "cell_type": "code",
   "execution_count": 2,
   "metadata": {},
   "outputs": [],
   "source": [
    "import plotly.plotly as py\n",
    "import plotly.graph_objs as go\n",
    "import plotly"
   ]
  },
  {
   "cell_type": "code",
   "execution_count": 3,
   "metadata": {},
   "outputs": [],
   "source": [
    "from datetime import datetime\n",
    "from datetime import timedelta\n",
    "import calendar"
   ]
  },
  {
   "cell_type": "code",
   "execution_count": 4,
   "metadata": {},
   "outputs": [],
   "source": [
    "plotly.tools.set_credentials_file(username='gasia4444', api_key='rC8FB3pveGzyME366dL7')"
   ]
  },
  {
   "cell_type": "markdown",
   "metadata": {},
   "source": [
    "# Read Data"
   ]
  },
  {
   "cell_type": "code",
   "execution_count": 5,
   "metadata": {},
   "outputs": [],
   "source": [
    "df = pd.read_csv('bitcoin_data_five_minute_2016_2018.csv', parse_dates = ['timestamp']).set_index('timestamp')"
   ]
  },
  {
   "cell_type": "code",
   "execution_count": 6,
   "metadata": {},
   "outputs": [],
   "source": [
    "df.sort_index(inplace=True)"
   ]
  },
  {
   "cell_type": "code",
   "execution_count": 7,
   "metadata": {},
   "outputs": [
    {
     "name": "stderr",
     "output_type": "stream",
     "text": [
      "/home/gasia/anaconda3/lib/python3.6/site-packages/plotly/plotly/plotly.py:224: UserWarning:\n",
      "\n",
      "Woah there! Look at all those points! Due to browser limitations, the Plotly SVG drawing functions have a hard time graphing more than 500k data points for line charts, or 40k points for other types of charts. Here are some suggestions:\n",
      "(1) Use the `plotly.graph_objs.Scattergl` trace object to generate a WebGl graph.\n",
      "(2) Trying using the image API to return an image instead of a graph URL\n",
      "(3) Use matplotlib\n",
      "(4) See if you can create your visualization with fewer data points\n",
      "\n",
      "If the visualization you're using aggregates points (e.g., box plot, histogram, etc.) you can disregard this warning.\n",
      "\n"
     ]
    },
    {
     "name": "stdout",
     "output_type": "stream",
     "text": [
      "High five! You successfully sent some data to your account on plotly. View your plot in your browser at https://plot.ly/~gasia4444/0 or inside your plot.ly account where it is named 'gasia'\n"
     ]
    },
    {
     "name": "stderr",
     "output_type": "stream",
     "text": [
      "/home/gasia/anaconda3/lib/python3.6/site-packages/plotly/api/v1/clientresp.py:40: UserWarning:\n",
      "\n",
      "Estimated Draw Time Too Long\n",
      "\n"
     ]
    },
    {
     "data": {
      "text/html": [
       "<iframe id=\"igraph\" scrolling=\"no\" style=\"border:none;\" seamless=\"seamless\" src=\"https://plot.ly/~gasia4444/0.embed\" height=\"525px\" width=\"100%\"></iframe>"
      ],
      "text/plain": [
       "<plotly.tools.PlotlyDisplay object>"
      ]
     },
     "execution_count": 7,
     "metadata": {},
     "output_type": "execute_result"
    }
   ],
   "source": [
    "dd = df\n",
    "data = [\n",
    "       go.Scatter(\n",
    "          x = dd.index,\n",
    "          y = dd.low,\n",
    "          mode='lines',\n",
    "          name='low'),\n",
    "    \n",
    "        go.Scatter(\n",
    "          x = dd.index,\n",
    "          y = dd.high,\n",
    "          mode='lines',\n",
    "          name='high'),\n",
    "    \n",
    "        go.Scatter(\n",
    "          x = dd.index,\n",
    "          y = dd.open,\n",
    "          mode='lines',\n",
    "          name='open'),\n",
    "    \n",
    "        go.Scatter(\n",
    "          x = dd.index,\n",
    "          y = dd.close,\n",
    "          mode='lines',\n",
    "          name='close'),\n",
    "    \n",
    "        go.Scatter(\n",
    "          x = dd.index,\n",
    "          y = dd.volume,\n",
    "          mode='lines',\n",
    "          name='volume'),\n",
    "    \n",
    "    ]\n",
    "py.iplot(data, filename = 'gasia')"
   ]
  },
  {
   "cell_type": "code",
   "execution_count": 8,
   "metadata": {},
   "outputs": [
    {
     "data": {
      "text/html": [
       "<div>\n",
       "<style scoped>\n",
       "    .dataframe tbody tr th:only-of-type {\n",
       "        vertical-align: middle;\n",
       "    }\n",
       "\n",
       "    .dataframe tbody tr th {\n",
       "        vertical-align: top;\n",
       "    }\n",
       "\n",
       "    .dataframe thead th {\n",
       "        text-align: right;\n",
       "    }\n",
       "</style>\n",
       "<table border=\"1\" class=\"dataframe\">\n",
       "  <thead>\n",
       "    <tr style=\"text-align: right;\">\n",
       "      <th></th>\n",
       "      <th>time</th>\n",
       "      <th>low</th>\n",
       "      <th>high</th>\n",
       "      <th>open</th>\n",
       "      <th>close</th>\n",
       "      <th>volume</th>\n",
       "    </tr>\n",
       "    <tr>\n",
       "      <th>timestamp</th>\n",
       "      <th></th>\n",
       "      <th></th>\n",
       "      <th></th>\n",
       "      <th></th>\n",
       "      <th></th>\n",
       "      <th></th>\n",
       "    </tr>\n",
       "  </thead>\n",
       "  <tbody>\n",
       "    <tr>\n",
       "      <th>2018-05-19 11:35:00</th>\n",
       "      <td>1526729700</td>\n",
       "      <td>8244.08</td>\n",
       "      <td>8244.40</td>\n",
       "      <td>8244.08</td>\n",
       "      <td>8244.40</td>\n",
       "      <td>2.240500</td>\n",
       "    </tr>\n",
       "    <tr>\n",
       "      <th>2018-05-19 11:40:00</th>\n",
       "      <td>1526730000</td>\n",
       "      <td>8244.39</td>\n",
       "      <td>8245.00</td>\n",
       "      <td>8244.40</td>\n",
       "      <td>8245.00</td>\n",
       "      <td>3.743579</td>\n",
       "    </tr>\n",
       "    <tr>\n",
       "      <th>2018-05-19 11:45:00</th>\n",
       "      <td>1526730300</td>\n",
       "      <td>8244.99</td>\n",
       "      <td>8269.34</td>\n",
       "      <td>8245.00</td>\n",
       "      <td>8269.34</td>\n",
       "      <td>24.687894</td>\n",
       "    </tr>\n",
       "    <tr>\n",
       "      <th>2018-05-19 11:50:00</th>\n",
       "      <td>1526730600</td>\n",
       "      <td>8269.34</td>\n",
       "      <td>8274.00</td>\n",
       "      <td>8269.34</td>\n",
       "      <td>8274.00</td>\n",
       "      <td>9.368873</td>\n",
       "    </tr>\n",
       "    <tr>\n",
       "      <th>2018-05-19 11:55:00</th>\n",
       "      <td>1526730900</td>\n",
       "      <td>8270.84</td>\n",
       "      <td>8368.31</td>\n",
       "      <td>8273.99</td>\n",
       "      <td>8368.31</td>\n",
       "      <td>257.014080</td>\n",
       "    </tr>\n",
       "  </tbody>\n",
       "</table>\n",
       "</div>"
      ],
      "text/plain": [
       "                           time      low     high     open    close  \\\n",
       "timestamp                                                             \n",
       "2018-05-19 11:35:00  1526729700  8244.08  8244.40  8244.08  8244.40   \n",
       "2018-05-19 11:40:00  1526730000  8244.39  8245.00  8244.40  8245.00   \n",
       "2018-05-19 11:45:00  1526730300  8244.99  8269.34  8245.00  8269.34   \n",
       "2018-05-19 11:50:00  1526730600  8269.34  8274.00  8269.34  8274.00   \n",
       "2018-05-19 11:55:00  1526730900  8270.84  8368.31  8273.99  8368.31   \n",
       "\n",
       "                         volume  \n",
       "timestamp                        \n",
       "2018-05-19 11:35:00    2.240500  \n",
       "2018-05-19 11:40:00    3.743579  \n",
       "2018-05-19 11:45:00   24.687894  \n",
       "2018-05-19 11:50:00    9.368873  \n",
       "2018-05-19 11:55:00  257.014080  "
      ]
     },
     "execution_count": 8,
     "metadata": {},
     "output_type": "execute_result"
    }
   ],
   "source": [
    "dd.tail(5)"
   ]
  },
  {
   "cell_type": "markdown",
   "metadata": {},
   "source": [
    "-----------------"
   ]
  },
  {
   "cell_type": "markdown",
   "metadata": {},
   "source": [
    "# Detect Minuimum Maximum"
   ]
  },
  {
   "cell_type": "markdown",
   "metadata": {},
   "source": [
    "a point is considered a maximum peak if it has the maximal value, and was preceded (to the left) by a value lower by delta, and followed (to the right) by a value lower by delta. "
   ]
  },
  {
   "cell_type": "code",
   "execution_count": 9,
   "metadata": {},
   "outputs": [],
   "source": [
    "import sys\n",
    "from numpy import NaN, Inf, arange, isscalar, asarray, array\n",
    "\n",
    "def det_min_max(v, delta, x = None):\n",
    "\n",
    "    maxtab = []\n",
    "    mintab = []\n",
    "       \n",
    "    if x is None:\n",
    "        x = arange(len(v))\n",
    "    \n",
    "    v = asarray(v)\n",
    "    \n",
    "    if len(v) != len(x):\n",
    "        sys.exit('x, v must have same length')\n",
    "    \n",
    "    if not isscalar(delta):\n",
    "        sys.exit('delta is not scalar')\n",
    "    \n",
    "    if delta <= 0:\n",
    "        sys.exit('delta is not positive')\n",
    "    \n",
    "    mn, mx = Inf, -Inf\n",
    "    mnpos, mxpos = NaN, NaN\n",
    "    \n",
    "    lookformax = True\n",
    "    for i in arange(len(v)):\n",
    "        this = v[i]\n",
    "        if this > mx:\n",
    "            mx = this\n",
    "            mxpos = x[i]\n",
    "        if this < mn:\n",
    "            mn = this\n",
    "            mnpos = x[i]\n",
    "        \n",
    "        if lookformax:\n",
    "            if this < mx-delta:\n",
    "                maxtab.append((mxpos, mx))\n",
    "                mn = this\n",
    "                mnpos = x[i]\n",
    "                lookformax = False\n",
    "        else:\n",
    "            if this > mn+delta:\n",
    "                mintab.append((mnpos, mn))\n",
    "                mx = this\n",
    "                mxpos = x[i]\n",
    "                lookformax = True\n",
    "\n",
    "    return array(maxtab), array(mintab)"
   ]
  },
  {
   "cell_type": "markdown",
   "metadata": {},
   "source": [
    "### apply"
   ]
  },
  {
   "cell_type": "code",
   "execution_count": 10,
   "metadata": {},
   "outputs": [],
   "source": [
    "df = pd.read_csv('bitcoin_data_five_minute_2016_2018.csv', parse_dates = ['timestamp'])\n",
    "df.sort_values('timestamp', inplace=True)"
   ]
  },
  {
   "cell_type": "code",
   "execution_count": 11,
   "metadata": {},
   "outputs": [],
   "source": [
    "series = df['close'].values\n",
    "maxtab, mintab = det_min_max(series,1000)\n",
    "df = df.set_index('timestamp')"
   ]
  },
  {
   "cell_type": "code",
   "execution_count": 22,
   "metadata": {},
   "outputs": [
    {
     "name": "stderr",
     "output_type": "stream",
     "text": [
      "/home/gasia/anaconda3/lib/python3.6/site-packages/plotly/plotly/plotly.py:224: UserWarning:\n",
      "\n",
      "Woah there! Look at all those points! Due to browser limitations, the Plotly SVG drawing functions have a hard time graphing more than 500k data points for line charts, or 40k points for other types of charts. Here are some suggestions:\n",
      "(1) Use the `plotly.graph_objs.Scattergl` trace object to generate a WebGl graph.\n",
      "(2) Trying using the image API to return an image instead of a graph URL\n",
      "(3) Use matplotlib\n",
      "(4) See if you can create your visualization with fewer data points\n",
      "\n",
      "If the visualization you're using aggregates points (e.g., box plot, histogram, etc.) you can disregard this warning.\n",
      "\n"
     ]
    },
    {
     "name": "stdout",
     "output_type": "stream",
     "text": [
      "High five! You successfully sent some data to your account on plotly. View your plot in your browser at https://plot.ly/~gasia4444/0 or inside your plot.ly account where it is named 'gasia'\n"
     ]
    },
    {
     "name": "stderr",
     "output_type": "stream",
     "text": [
      "/home/gasia/anaconda3/lib/python3.6/site-packages/plotly/api/v1/clientresp.py:40: UserWarning:\n",
      "\n",
      "Estimated Draw Time Too Long\n",
      "\n"
     ]
    },
    {
     "data": {
      "text/html": [
       "<iframe id=\"igraph\" scrolling=\"no\" style=\"border:none;\" seamless=\"seamless\" src=\"https://plot.ly/~gasia4444/0.embed\" height=\"525px\" width=\"100%\"></iframe>"
      ],
      "text/plain": [
       "<plotly.tools.PlotlyDisplay object>"
      ]
     },
     "execution_count": 22,
     "metadata": {},
     "output_type": "execute_result"
    }
   ],
   "source": [
    "data = [    \n",
    "       go.Scatter(\n",
    "          x = df.iloc[array(maxtab)[:,0]].index.values,\n",
    "          y = array(maxtab)[:,1],\n",
    "          mode='markers',\n",
    "         marker = dict(\n",
    "             size = 8,\n",
    "            color = '#229954',\n",
    "            line = dict(\n",
    "                width = 1,\n",
    "                color = 'rgb(0, 0, 0)'),),\n",
    "        name='maximum'),\n",
    "    \n",
    "        go.Scatter(\n",
    "          x = df.iloc[array(mintab)[:,0]].index.values,\n",
    "          y = array(mintab)[:,1],\n",
    "          mode='markers',\n",
    "          marker = dict(\n",
    "            size = 8,\n",
    "            color = '#CB4335',\n",
    "            line = dict(\n",
    "                width = 1,\n",
    "                color = 'rgb(0, 0, 0)')),\n",
    "        \n",
    "          name='minimum'),\n",
    "        \n",
    "    go.Scatter(\n",
    "          x = df.index.values,\n",
    "          y = df.close.values,\n",
    "          mode='lines',\n",
    "          line = dict(color = '#2E86C1'),\n",
    "          name='btc ts'),\n",
    "          \n",
    "\n",
    "    ]\n",
    "py.iplot(data, filename = 'gasia')"
   ]
  },
  {
   "cell_type": "code",
   "execution_count": 28,
   "metadata": {},
   "outputs": [],
   "source": [
    "pd.DataFrame(array(maxtab)[:,1] , index=df.iloc[array(maxtab)[:,0]].index, columns=['data']).to_csv('btc_max.csv')\n",
    "pd.DataFrame(array(mintab)[:,1] , index=df.iloc[array(mintab)[:,0]].index, columns=['data']).to_csv('btc_min.csv')\n"
   ]
  }
 ],
 "metadata": {
  "kernelspec": {
   "display_name": "Python 3",
   "language": "python",
   "name": "python3"
  },
  "language_info": {
   "codemirror_mode": {
    "name": "ipython",
    "version": 3
   },
   "file_extension": ".py",
   "mimetype": "text/x-python",
   "name": "python",
   "nbconvert_exporter": "python",
   "pygments_lexer": "ipython3",
   "version": "3.6.4"
  }
 },
 "nbformat": 4,
 "nbformat_minor": 2
}
