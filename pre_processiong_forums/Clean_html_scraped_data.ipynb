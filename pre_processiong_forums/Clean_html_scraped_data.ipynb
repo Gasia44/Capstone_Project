{
 "cells": [
  {
   "cell_type": "markdown",
   "metadata": {},
   "source": [
    "# Setup"
   ]
  },
  {
   "cell_type": "code",
   "execution_count": 1,
   "metadata": {},
   "outputs": [],
   "source": [
    "from tqdm import tqdm\n",
    "import pandas as pd\n",
    "import numpy as np"
   ]
  },
  {
   "cell_type": "code",
   "execution_count": 2,
   "metadata": {},
   "outputs": [],
   "source": [
    "from xml.sax.saxutils import unescape\n",
    "import html"
   ]
  },
  {
   "cell_type": "markdown",
   "metadata": {},
   "source": [
    "# Data"
   ]
  },
  {
   "cell_type": "code",
   "execution_count": 3,
   "metadata": {},
   "outputs": [],
   "source": [
    "df = pd.read_csv('bitcointalk_items_new.csv')"
   ]
  },
  {
   "cell_type": "markdown",
   "metadata": {},
   "source": [
    "# Data Clean"
   ]
  },
  {
   "cell_type": "code",
   "execution_count": 4,
   "metadata": {},
   "outputs": [],
   "source": [
    "import re\n",
    "\n",
    "map_clean= {'&#039;' : \"'\",\n",
    "            '&quot;' : '\"',\n",
    "            '&nbsp;' : ' ',\n",
    "           '<br />' : ' ',\n",
    "           '<br/>'  : ' ',\n",
    "           '<br >'  : '',\n",
    "           '<b>'    : '',\n",
    "            '&lt':  '<',\n",
    "            '&gt':  '>',\n",
    "            '&le': '<=',\n",
    "            '&ge': '>=',\n",
    "           }\n",
    "\n",
    "def multiple_replace(text, adict):\n",
    "    rx = re.compile('|'.join(map(re.escape, adict)))\n",
    "    def one_xlat(match):\n",
    "        return adict[match.group(0)]\n",
    "    return rx.sub(one_xlat, text)"
   ]
  },
  {
   "cell_type": "code",
   "execution_count": 5,
   "metadata": {},
   "outputs": [
    {
     "data": {
      "text/plain": [
       "25047"
      ]
     },
     "execution_count": 5,
     "metadata": {},
     "output_type": "execute_result"
    }
   ],
   "source": [
    "len(np.unique(df.topic_title.values))"
   ]
  },
  {
   "cell_type": "code",
   "execution_count": 6,
   "metadata": {},
   "outputs": [],
   "source": [
    "topic_title  = np.unique(df.topic_title.values)\n",
    "topic_title.sort()"
   ]
  },
  {
   "cell_type": "code",
   "execution_count": 7,
   "metadata": {},
   "outputs": [
    {
     "data": {
      "text/plain": [
       "351082"
      ]
     },
     "execution_count": 7,
     "metadata": {},
     "output_type": "execute_result"
    }
   ],
   "source": [
    "start = 0\n",
    "end = 10000\n",
    "len(df[df.topic_title.isin(topic_title[start:end])])"
   ]
  },
  {
   "cell_type": "code",
   "execution_count": 8,
   "metadata": {},
   "outputs": [],
   "source": [
    "part = df[df.topic_title.isin(topic_title[start:end ])]\n",
    "part = part.reset_index(drop=True)"
   ]
  },
  {
   "cell_type": "code",
   "execution_count": 9,
   "metadata": {},
   "outputs": [],
   "source": [
    "part['quoteheader'] =''"
   ]
  },
  {
   "cell_type": "code",
   "execution_count": 10,
   "metadata": {},
   "outputs": [
    {
     "name": "stderr",
     "output_type": "stream",
     "text": [
      "  0%|          | 0/351082 [00:00<?, ?it/s]/home/gasia/anaconda3/lib/python3.6/site-packages/ipykernel_launcher.py:6: SettingWithCopyWarning: \n",
      "A value is trying to be set on a copy of a slice from a DataFrame\n",
      "\n",
      "See the caveats in the documentation: http://pandas.pydata.org/pandas-docs/stable/indexing.html#indexing-view-versus-copy\n",
      "  \n",
      "/home/gasia/anaconda3/lib/python3.6/site-packages/ipykernel_launcher.py:8: SettingWithCopyWarning: \n",
      "A value is trying to be set on a copy of a slice from a DataFrame\n",
      "\n",
      "See the caveats in the documentation: http://pandas.pydata.org/pandas-docs/stable/indexing.html#indexing-view-versus-copy\n",
      "  \n",
      "100%|██████████| 351082/351082 [9:56:19<00:00,  9.81it/s]  \n"
     ]
    }
   ],
   "source": [
    "for i in tqdm(range(0,len(part))):\n",
    "    try:\n",
    "        crnt_msg = part.message_text[i]\n",
    "        sp = crnt_msg.split('</div>')\n",
    "        data = str(unescape(html.unescape((''.join(sp[:-1])))))\n",
    "        part.quoteheader[i]= multiple_replace(re.sub( r'<[^>]*>', ' ',data).strip(), map_clean)\n",
    "        data = str(unescape(html.unescape((sp[-1]))))\n",
    "        part.message_text[i]= multiple_replace(re.sub( r'<[^>]*>', ' ',data).strip(), map_clean)\n",
    "    except:\n",
    "        print('ooops')\n",
    "\n",
    "part.to_csv('./cleaned_new_data/clean_part_'+str(start)+'_'+str(end)+'.csv', index = False)"
   ]
  }
 ],
 "metadata": {
  "kernelspec": {
   "display_name": "Python 3",
   "language": "python",
   "name": "python3"
  },
  "language_info": {
   "codemirror_mode": {
    "name": "ipython",
    "version": 3
   },
   "file_extension": ".py",
   "mimetype": "text/x-python",
   "name": "python",
   "nbconvert_exporter": "python",
   "pygments_lexer": "ipython3",
   "version": "3.6.4"
  }
 },
 "nbformat": 4,
 "nbformat_minor": 2
}
