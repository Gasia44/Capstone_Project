{
 "cells": [
  {
   "cell_type": "markdown",
   "metadata": {},
   "source": [
    "# Setup"
   ]
  },
  {
   "cell_type": "code",
   "execution_count": 1,
   "metadata": {},
   "outputs": [],
   "source": [
    "import numpy as np\n",
    "import pandas as pd\n",
    "import matplotlib.pyplot as plt\n",
    "import gdax\n",
    "%matplotlib inline  "
   ]
  },
  {
   "cell_type": "code",
   "execution_count": 2,
   "metadata": {},
   "outputs": [],
   "source": [
    "import plotly.plotly as py\n",
    "import plotly.graph_objs as go\n",
    "import plotly"
   ]
  },
  {
   "cell_type": "code",
   "execution_count": 3,
   "metadata": {},
   "outputs": [],
   "source": [
    "from datetime import datetime\n",
    "from datetime import timedelta\n",
    "import calendar"
   ]
  },
  {
   "cell_type": "code",
   "execution_count": 4,
   "metadata": {},
   "outputs": [],
   "source": [
    "plotly.tools.set_credentials_file(username='gasia4444', api_key='rC8FB3pveGzyME366dL7')"
   ]
  },
  {
   "cell_type": "markdown",
   "metadata": {},
   "source": [
    "# GDAX to get BTC historical data"
   ]
  },
  {
   "cell_type": "code",
   "execution_count": 5,
   "metadata": {},
   "outputs": [],
   "source": [
    "mod = gdax.PublicClient()\n",
    "data = mod.get_product_historic_rates('BTC-USD')\n",
    "df = pd.DataFrame(data, columns = ['time', 'low', 'high', 'open', 'close', 'volume'])\n",
    "df = df.sort_values('time', ascending=True).reset_index(drop = True)"
   ]
  },
  {
   "cell_type": "code",
   "execution_count": 6,
   "metadata": {},
   "outputs": [
    {
     "data": {
      "text/html": [
       "<div>\n",
       "<style scoped>\n",
       "    .dataframe tbody tr th:only-of-type {\n",
       "        vertical-align: middle;\n",
       "    }\n",
       "\n",
       "    .dataframe tbody tr th {\n",
       "        vertical-align: top;\n",
       "    }\n",
       "\n",
       "    .dataframe thead th {\n",
       "        text-align: right;\n",
       "    }\n",
       "</style>\n",
       "<table border=\"1\" class=\"dataframe\">\n",
       "  <thead>\n",
       "    <tr style=\"text-align: right;\">\n",
       "      <th></th>\n",
       "      <th>time</th>\n",
       "      <th>low</th>\n",
       "      <th>high</th>\n",
       "      <th>open</th>\n",
       "      <th>close</th>\n",
       "      <th>volume</th>\n",
       "    </tr>\n",
       "  </thead>\n",
       "  <tbody>\n",
       "    <tr>\n",
       "      <th>0</th>\n",
       "      <td>1527001980</td>\n",
       "      <td>8229.53</td>\n",
       "      <td>8229.54</td>\n",
       "      <td>8229.54</td>\n",
       "      <td>8229.54</td>\n",
       "      <td>1.950928</td>\n",
       "    </tr>\n",
       "    <tr>\n",
       "      <th>1</th>\n",
       "      <td>1527002040</td>\n",
       "      <td>8229.53</td>\n",
       "      <td>8229.54</td>\n",
       "      <td>8229.54</td>\n",
       "      <td>8229.54</td>\n",
       "      <td>1.099946</td>\n",
       "    </tr>\n",
       "    <tr>\n",
       "      <th>2</th>\n",
       "      <td>1527002100</td>\n",
       "      <td>8229.53</td>\n",
       "      <td>8230.64</td>\n",
       "      <td>8229.54</td>\n",
       "      <td>8230.63</td>\n",
       "      <td>9.792302</td>\n",
       "    </tr>\n",
       "    <tr>\n",
       "      <th>3</th>\n",
       "      <td>1527002160</td>\n",
       "      <td>8230.63</td>\n",
       "      <td>8231.00</td>\n",
       "      <td>8230.63</td>\n",
       "      <td>8230.99</td>\n",
       "      <td>1.263783</td>\n",
       "    </tr>\n",
       "    <tr>\n",
       "      <th>4</th>\n",
       "      <td>1527002220</td>\n",
       "      <td>8230.99</td>\n",
       "      <td>8232.93</td>\n",
       "      <td>8230.99</td>\n",
       "      <td>8232.93</td>\n",
       "      <td>1.307830</td>\n",
       "    </tr>\n",
       "  </tbody>\n",
       "</table>\n",
       "</div>"
      ],
      "text/plain": [
       "         time      low     high     open    close    volume\n",
       "0  1527001980  8229.53  8229.54  8229.54  8229.54  1.950928\n",
       "1  1527002040  8229.53  8229.54  8229.54  8229.54  1.099946\n",
       "2  1527002100  8229.53  8230.64  8229.54  8230.63  9.792302\n",
       "3  1527002160  8230.63  8231.00  8230.63  8230.99  1.263783\n",
       "4  1527002220  8230.99  8232.93  8230.99  8232.93  1.307830"
      ]
     },
     "execution_count": 6,
     "metadata": {},
     "output_type": "execute_result"
    }
   ],
   "source": [
    "df.head()"
   ]
  },
  {
   "cell_type": "markdown",
   "metadata": {},
   "source": [
    "# Analyze"
   ]
  },
  {
   "cell_type": "code",
   "execution_count": 7,
   "metadata": {},
   "outputs": [],
   "source": [
    "import datetime\n",
    "utc_time = datetime.datetime.utcfromtimestamp(np.min(df.time.values))"
   ]
  },
  {
   "cell_type": "code",
   "execution_count": 8,
   "metadata": {},
   "outputs": [],
   "source": [
    "date_time = []\n",
    "for i in df.time.values:\n",
    "    utc_time = datetime.datetime.utcfromtimestamp(i)\n",
    "    utc_time.strftime(\"%Y-%m-%d %H:%M:%S (UTC)\")\n",
    "    date_time.append(utc_time.strftime(\"%Y-%m-%d %H:%M:%S\"))"
   ]
  },
  {
   "cell_type": "code",
   "execution_count": 9,
   "metadata": {},
   "outputs": [],
   "source": [
    "df['timestamp'] = pd.to_datetime(date_time)\n",
    "dd = df.set_index('timestamp')"
   ]
  },
  {
   "cell_type": "code",
   "execution_count": 10,
   "metadata": {},
   "outputs": [
    {
     "name": "stdout",
     "output_type": "stream",
     "text": [
      "<class 'pandas.core.frame.DataFrame'>\n",
      "DatetimeIndex: 300 entries, 2018-05-22 15:13:00 to 2018-05-22 20:12:00\n",
      "Data columns (total 6 columns):\n",
      "time      300 non-null int64\n",
      "low       300 non-null float64\n",
      "high      300 non-null float64\n",
      "open      300 non-null float64\n",
      "close     300 non-null float64\n",
      "volume    300 non-null float64\n",
      "dtypes: float64(5), int64(1)\n",
      "memory usage: 16.4 KB\n"
     ]
    }
   ],
   "source": [
    "dd.info()"
   ]
  },
  {
   "cell_type": "code",
   "execution_count": 11,
   "metadata": {},
   "outputs": [],
   "source": [
    "dd = dd.drop('time', axis = 1)\n",
    "dd = dd.drop('volume', axis = 1)"
   ]
  },
  {
   "cell_type": "code",
   "execution_count": 12,
   "metadata": {},
   "outputs": [
    {
     "name": "stderr",
     "output_type": "stream",
     "text": [
      "No handles with labels found to put in legend.\n"
     ]
    },
    {
     "data": {
      "image/png": "[encoded data removed]",
      "text/plain": [
       "<matplotlib.figure.Figure at 0x7f343801f2b0>"
      ]
     },
     "metadata": {},
     "output_type": "display_data"
    }
   ],
   "source": [
    "plt.figure(figsize = (15,7))\n",
    "plt.plot(dd)\n",
    "plt.legend()\n",
    "plt.show()"
   ]
  },
  {
   "cell_type": "code",
   "execution_count": 13,
   "metadata": {},
   "outputs": [
    {
     "data": {
      "text/plain": [
       "Index(['low', 'high', 'open', 'close'], dtype='object')"
      ]
     },
     "execution_count": 13,
     "metadata": {},
     "output_type": "execute_result"
    }
   ],
   "source": [
    "dd.columns"
   ]
  },
  {
   "cell_type": "code",
   "execution_count": 14,
   "metadata": {},
   "outputs": [
    {
     "name": "stdout",
     "output_type": "stream",
     "text": [
      "High five! You successfully sent some data to your account on plotly. View your plot in your browser at https://plot.ly/~gasia4444/0 or inside your plot.ly account where it is named 'gasia'\n"
     ]
    },
    {
     "data": {
      "text/html": [
       "<iframe id=\"igraph\" scrolling=\"no\" style=\"border:none;\" seamless=\"seamless\" src=\"https://plot.ly/~gasia4444/0.embed\" height=\"525px\" width=\"100%\"></iframe>"
      ],
      "text/plain": [
       "<plotly.tools.PlotlyDisplay object>"
      ]
     },
     "execution_count": 14,
     "metadata": {},
     "output_type": "execute_result"
    }
   ],
   "source": [
    "data = [\n",
    "       go.Scatter(\n",
    "          x = dd.index,\n",
    "          y = dd.low,\n",
    "          mode='lines',\n",
    "          name='low'),\n",
    "    \n",
    "        go.Scatter(\n",
    "          x = dd.index,\n",
    "          y = dd.high,\n",
    "          mode='lines',\n",
    "          name='high'),\n",
    "    \n",
    "        go.Scatter(\n",
    "          x = dd.index,\n",
    "          y = dd.open,\n",
    "          mode='lines',\n",
    "          name='open'),\n",
    "    \n",
    "        go.Scatter(\n",
    "          x = dd.index,\n",
    "          y = dd.close,\n",
    "          mode='lines',\n",
    "          name='close'),\n",
    "    \n",
    "    ]\n",
    "py.iplot(data, filename = 'gasia')"
   ]
  },
  {
   "cell_type": "markdown",
   "metadata": {},
   "source": [
    "# Get a lot of data"
   ]
  },
  {
   "cell_type": "code",
   "execution_count": 20,
   "metadata": {},
   "outputs": [],
   "source": [
    "from tqdm import tqdm, tqdm_notebook"
   ]
  },
  {
   "cell_type": "code",
   "execution_count": 38,
   "metadata": {},
   "outputs": [
    {
     "data": {
      "application/vnd.jupyter.widget-view+json": {
       "model_id": "6585a0ee9895403bb0c99e984da94622",
       "version_major": 2,
       "version_minor": 0
      },
      "text/html": [
       "<p>Failed to display Jupyter Widget of type <code>HBox</code>.</p>\n",
       "<p>\n",
       "  If you're reading this message in the Jupyter Notebook or JupyterLab Notebook, it may mean\n",
       "  that the widgets JavaScript is still loading. If this message persists, it\n",
       "  likely means that the widgets JavaScript library is either not installed or\n",
       "  not enabled. See the <a href=\"https://ipywidgets.readthedocs.io/en/stable/user_install.html\">Jupyter\n",
       "  Widgets Documentation</a> for setup instructions.\n",
       "</p>\n",
       "<p>\n",
       "  If you're reading this message in another frontend (for example, a static\n",
       "  rendering on GitHub or <a href=\"https://nbviewer.jupyter.org/\">NBViewer</a>),\n",
       "  it may mean that your frontend doesn't currently support widgets.\n",
       "</p>\n"
      ],
      "text/plain": [
       "HBox(children=(IntProgress(value=0, max=798), HTML(value='')))"
      ]
     },
     "metadata": {},
     "output_type": "display_data"
    },
    {
     "name": "stderr",
     "output_type": "stream",
     "text": [
      "ERROR:root:Internal Python error in the inspect module.\n",
      "Below is the traceback from this internal error.\n",
      "\n",
      "\n",
      "KeyboardInterrupt\n",
      "\n"
     ]
    }
   ],
   "source": [
    "end = pd.to_datetime('2016-01-01 00:00:00')\n",
    "for_until = pd.to_datetime('2018-05-010 00:00:00')\n",
    "all_data =[]\n",
    "mod = gdax.PublicClient()\n",
    "# for_until_unix = calendar.timegm(for_until.utctimetuple())\n",
    "# tq = for_until_unix - calendar.timegm(end.utctimetuple())\n",
    "\n",
    "ee = (for_until - end) \n",
    "# pbar = tqdm_notebook(total = (ee.days*12*60)//3 )\n",
    "pbar = tqdm_notebook(total = (ee.days*24)//(11) )\n",
    "while end + timedelta(hours = 12) < for_until:\n",
    "    pbar.update(1)\n",
    "    \n",
    "    start = end \n",
    "    end  = start + timedelta(hours = 12)\n",
    "    mod = gdax.PublicClient()\n",
    "    data = mod.get_product_historic_rates('BTC-USD', start = start, end = end, granularity='300' )\n",
    "    all_data.extend(data)\n",
    "    \n",
    "    \n",
    "pbar.close()   "
   ]
  },
  {
   "cell_type": "code",
   "execution_count": 22,
   "metadata": {},
   "outputs": [],
   "source": [
    "qq = [i for i in all_data if len(i) == 6]\n",
    "df = pd.DataFrame(qq, columns = ['time', 'low', 'high', 'open', 'close', 'volume'])"
   ]
  },
  {
   "cell_type": "code",
   "execution_count": 23,
   "metadata": {},
   "outputs": [],
   "source": [
    "date_time = []\n",
    "for i in df.time.values:\n",
    "    utc_time = datetime.datetime.utcfromtimestamp(i)\n",
    "#     utc_time.strftime(\"%Y-%m-%d %H:%M:%S (UTC)\")\n",
    "    date_time.append(utc_time.strftime(\"%Y-%m-%d %H:%M:%S\"))"
   ]
  },
  {
   "cell_type": "code",
   "execution_count": 24,
   "metadata": {},
   "outputs": [],
   "source": [
    "df['timestamp'] = pd.to_datetime(date_time)\n",
    "dd = df.set_index('timestamp')"
   ]
  },
  {
   "cell_type": "code",
   "execution_count": 27,
   "metadata": {},
   "outputs": [],
   "source": [
    "dd= dd.drop_duplicates()\n",
    "dd.sort_index(inplace=True)"
   ]
  },
  {
   "cell_type": "code",
   "execution_count": 28,
   "metadata": {},
   "outputs": [],
   "source": [
    "name = 'bitcoin_data_five_minute_2016_2018.csv'\n",
    "dd.to_csv(name)\n",
    "df = pd.read_csv(name, parse_dates = ['timestamp']).set_index('timestamp')"
   ]
  },
  {
   "cell_type": "markdown",
   "metadata": {},
   "source": [
    "### append the new scraped data to the old one"
   ]
  },
  {
   "cell_type": "code",
   "execution_count": 29,
   "metadata": {},
   "outputs": [],
   "source": [
    "# dd_new = dd.copy()\n",
    "# merged_data = pd.concat([df, dd_new])\n",
    "# merged_data.drop_duplicates(inplace=True)\n",
    "# merged_data = merged_data.sort_index()\n",
    "# merged_data.to_csv('bitcoin_data.csv')"
   ]
  },
  {
   "cell_type": "markdown",
   "metadata": {},
   "source": [
    "# Read Data"
   ]
  },
  {
   "cell_type": "code",
   "execution_count": 32,
   "metadata": {},
   "outputs": [],
   "source": [
    "df_1 = pd.read_csv('bitcoin_data_five_minute_2014_2016.csv', parse_dates = ['timestamp']).set_index('timestamp')\n",
    "df_2 = pd.read_csv('bitcoin_data_five_minute_2016_2018.csv', parse_dates = ['timestamp']).set_index('timestamp')\n"
   ]
  },
  {
   "cell_type": "code",
   "execution_count": 34,
   "metadata": {},
   "outputs": [],
   "source": [
    "frames = [df_1, df_2]\n",
    "\n",
    "df = pd.concat(frames)"
   ]
  },
  {
   "cell_type": "code",
   "execution_count": 35,
   "metadata": {},
   "outputs": [],
   "source": [
    "df.sort_index(inplace=True)"
   ]
  },
  {
   "cell_type": "code",
   "execution_count": 37,
   "metadata": {},
   "outputs": [
    {
     "name": "stderr",
     "output_type": "stream",
     "text": [
      "/home/gasia/anaconda3/lib/python3.6/site-packages/plotly/plotly/plotly.py:224: UserWarning:\n",
      "\n",
      "Woah there! Look at all those points! Due to browser limitations, the Plotly SVG drawing functions have a hard time graphing more than 500k data points for line charts, or 40k points for other types of charts. Here are some suggestions:\n",
      "(1) Use the `plotly.graph_objs.Scattergl` trace object to generate a WebGl graph.\n",
      "(2) Trying using the image API to return an image instead of a graph URL\n",
      "(3) Use matplotlib\n",
      "(4) See if you can create your visualization with fewer data points\n",
      "\n",
      "If the visualization you're using aggregates points (e.g., box plot, histogram, etc.) you can disregard this warning.\n",
      "\n"
     ]
    },
    {
     "name": "stdout",
     "output_type": "stream",
     "text": [
      "High five! You successfully sent some data to your account on plotly. View your plot in your browser at https://plot.ly/~gasia4444/0 or inside your plot.ly account where it is named 'gasia'\n"
     ]
    },
    {
     "name": "stderr",
     "output_type": "stream",
     "text": [
      "/home/gasia/anaconda3/lib/python3.6/site-packages/plotly/api/v1/clientresp.py:40: UserWarning:\n",
      "\n",
      "Estimated Draw Time Too Long\n",
      "\n"
     ]
    },
    {
     "data": {
      "text/html": [
       "<iframe id=\"igraph\" scrolling=\"no\" style=\"border:none;\" seamless=\"seamless\" src=\"https://plot.ly/~gasia4444/0.embed\" height=\"525px\" width=\"100%\"></iframe>"
      ],
      "text/plain": [
       "<plotly.tools.PlotlyDisplay object>"
      ]
     },
     "execution_count": 37,
     "metadata": {},
     "output_type": "execute_result"
    }
   ],
   "source": [
    "dd = df\n",
    "data = [\n",
    "       go.Scatter(\n",
    "          x = dd.index,\n",
    "          y = dd.low,\n",
    "          mode='lines',\n",
    "          name='low'),\n",
    "    \n",
    "        go.Scatter(\n",
    "          x = dd.index,\n",
    "          y = dd.high,\n",
    "          mode='lines',\n",
    "          name='high'),\n",
    "    \n",
    "        go.Scatter(\n",
    "          x = dd.index,\n",
    "          y = dd.open,\n",
    "          mode='lines',\n",
    "          name='open'),\n",
    "    \n",
    "        go.Scatter(\n",
    "          x = dd.index,\n",
    "          y = dd.close,\n",
    "          mode='lines',\n",
    "          name='close'),\n",
    "    \n",
    "        go.Scatter(\n",
    "          x = dd.index,\n",
    "          y = dd.volume,\n",
    "          mode='lines',\n",
    "          name='volume'),\n",
    "    \n",
    "    ]\n",
    "py.iplot(data, filename = 'gasia')"
   ]
  },
  {
   "cell_type": "code",
   "execution_count": 34,
   "metadata": {},
   "outputs": [],
   "source": [
    "dd = dd.drop('time', axis = 1)"
   ]
  }
 ],
 "metadata": {
  "kernelspec": {
   "display_name": "Python 3",
   "language": "python",
   "name": "python3"
  },
  "language_info": {
   "codemirror_mode": {
    "name": "ipython",
    "version": 3
   },
   "file_extension": ".py",
   "mimetype": "text/x-python",
   "name": "python",
   "nbconvert_exporter": "python",
   "pygments_lexer": "ipython3",
   "version": "3.6.4"
  }
 },
 "nbformat": 4,
 "nbformat_minor": 2
}
